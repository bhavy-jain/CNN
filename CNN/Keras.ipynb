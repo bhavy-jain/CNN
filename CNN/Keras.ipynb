{
 "cells": [
  {
   "cell_type": "code",
   "execution_count": 1,
   "metadata": {},
   "outputs": [
    {
     "name": "stderr",
     "output_type": "stream",
     "text": [
      "Using TensorFlow backend.\n"
     ]
    }
   ],
   "source": [
    "import keras\n",
    "from keras.datasets import cifar10\n",
    "from keras.models import Sequential\n",
    "from keras.layers import Dense, Dropout, Flatten,BatchNormalization,Activation\n",
    "from keras.layers import Conv2D, MaxPooling2D"
   ]
  },
  {
   "cell_type": "code",
   "execution_count": 2,
   "metadata": {
    "collapsed": true
   },
   "outputs": [],
   "source": [
    "(x_train, y_train), (x_test, y_test) = cifar10.load_data()\n",
    "x_train = x_train.astype('float32')\n",
    "x_test = x_test.astype('float32')\n",
    "x_train /= 255\n",
    "x_test /= 255\n",
    "y_train = keras.utils.to_categorical(y_train, 10)\n",
    "y_test = keras.utils.to_categorical(y_test, 10)"
   ]
  },
  {
   "cell_type": "code",
   "execution_count": 3,
   "metadata": {},
   "outputs": [
    {
     "name": "stdout",
     "output_type": "stream",
     "text": [
      "Train on 50000 samples, validate on 10000 samples\n",
      "Epoch 1/12\n",
      "50000/50000 [==============================] - 704s 14ms/step - loss: 1.2175 - acc: 0.5718 - val_loss: 1.1551 - val_acc: 0.6018\n",
      "Epoch 2/12\n",
      "50000/50000 [==============================] - 689s 14ms/step - loss: 0.7882 - acc: 0.7238 - val_loss: 1.0497 - val_acc: 0.6431\n",
      "Epoch 3/12\n",
      "50000/50000 [==============================] - 616s 12ms/step - loss: 0.6116 - acc: 0.7877 - val_loss: 0.9199 - val_acc: 0.7006\n",
      "Epoch 4/12\n",
      "50000/50000 [==============================] - 602s 12ms/step - loss: 0.4857 - acc: 0.8328 - val_loss: 0.8419 - val_acc: 0.7145\n",
      "Epoch 5/12\n",
      "50000/50000 [==============================] - 609s 12ms/step - loss: 0.3607 - acc: 0.8781 - val_loss: 0.8687 - val_acc: 0.7154\n",
      "Epoch 6/12\n",
      "50000/50000 [==============================] - 603s 12ms/step - loss: 0.2584 - acc: 0.9151 - val_loss: 0.9208 - val_acc: 0.7195\n",
      "Epoch 7/12\n",
      "50000/50000 [==============================] - 604s 12ms/step - loss: 0.1791 - acc: 0.9439 - val_loss: 0.9044 - val_acc: 0.7372\n",
      "Epoch 8/12\n",
      "50000/50000 [==============================] - 610s 12ms/step - loss: 0.1253 - acc: 0.9622 - val_loss: 1.0279 - val_acc: 0.7371\n",
      "Epoch 9/12\n",
      "50000/50000 [==============================] - 617s 12ms/step - loss: 0.0852 - acc: 0.9763 - val_loss: 1.0462 - val_acc: 0.7357\n",
      "Epoch 10/12\n",
      "50000/50000 [==============================] - 637s 13ms/step - loss: 0.0658 - acc: 0.9816 - val_loss: 1.1518 - val_acc: 0.7262\n",
      "Epoch 11/12\n",
      "50000/50000 [==============================] - 618s 12ms/step - loss: 0.0494 - acc: 0.9871 - val_loss: 1.1118 - val_acc: 0.7324\n",
      "Epoch 12/12\n",
      "50000/50000 [==============================] - 605s 12ms/step - loss: 0.0479 - acc: 0.9871 - val_loss: 1.2066 - val_acc: 0.7340\n",
      "Test loss: 1.20655724287\n",
      "Test accuracy: 0.734\n"
     ]
    }
   ],
   "source": [
    "model = Sequential()\n",
    "model.add(Conv2D(32, (3, 3),activation='relu',padding='same',input_shape=x_train.shape[1:]))\n",
    "model.add(BatchNormalization())\n",
    "model.add(Conv2D(32, (3, 3), activation='relu',padding='same'))\n",
    "model.add(MaxPooling2D(pool_size=(2, 2)))\n",
    "model.add(BatchNormalization())\n",
    "model.add(Conv2D(64, (3, 3),activation='relu',padding='same'))\n",
    "model.add(BatchNormalization())\n",
    "model.add(Conv2D(64, (3, 3), activation='relu',padding='same'))\n",
    "model.add(MaxPooling2D(pool_size=(2, 2)))\n",
    "model.add(Flatten())\n",
    "model.add(Dense(256, activation='relu'))\n",
    "model.add(BatchNormalization())\n",
    "model.add(Dense(128, activation='relu'))\n",
    "model.add(BatchNormalization())\n",
    "model.add(Dense(10, activation='softmax'))\n",
    "model.compile(loss=keras.losses.categorical_crossentropy,optimizer='adam',metrics=['accuracy'])\n",
    "model.fit(x_train, y_train,batch_size=256,epochs=12,verbose=1,validation_data=(x_test, y_test))\n",
    "score = model.evaluate(x_test, y_test, verbose=0)\n",
    "print('Test loss:', score[0])\n",
    "print('Test accuracy:', score[1])"
   ]
  },
  {
   "cell_type": "code",
   "execution_count": null,
   "metadata": {
    "collapsed": true
   },
   "outputs": [],
   "source": []
  }
 ],
 "metadata": {
  "kernelspec": {
   "display_name": "Python 3",
   "language": "python",
   "name": "python3"
  },
  "language_info": {
   "codemirror_mode": {
    "name": "ipython",
    "version": 3
   },
   "file_extension": ".py",
   "mimetype": "text/x-python",
   "name": "python",
   "nbconvert_exporter": "python",
   "pygments_lexer": "ipython3",
   "version": "3.6.3"
  }
 },
 "nbformat": 4,
 "nbformat_minor": 2
}
